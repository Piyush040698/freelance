{
 "cells": [
  {
   "cell_type": "code",
   "execution_count": 6,
   "metadata": {},
   "outputs": [
    {
     "name": "stdout",
     "output_type": "stream",
     "text": [
      "Note: you may need to restart the kernel to use updated packages.Collecting pytesseract\n",
      "  Downloading pytesseract-0.3.10-py3-none-any.whl (14 kB)\n",
      "Collecting python-docx\n",
      "  Downloading python_docx-1.1.2-py3-none-any.whl (244 kB)\n",
      "     -------------------------------------- 244.3/244.3 kB 3.0 MB/s eta 0:00:00\n",
      "Requirement already satisfied: packaging>=21.3 in c:\\users\\vivek\\anaconda3\\lib\\site-packages (from pytesseract) (22.0)\n",
      "Requirement already satisfied: Pillow>=8.0.0 in c:\\users\\vivek\\anaconda3\\lib\\site-packages (from pytesseract) (9.4.0)\n",
      "Requirement already satisfied: lxml>=3.1.0 in c:\\users\\vivek\\anaconda3\\lib\\site-packages (from python-docx) (4.9.1)\n",
      "Collecting typing-extensions>=4.9.0\n",
      "  Downloading typing_extensions-4.12.2-py3-none-any.whl (37 kB)\n",
      "Installing collected packages: typing-extensions, pytesseract, python-docx\n",
      "  Attempting uninstall: typing-extensions\n",
      "    Found existing installation: typing_extensions 4.4.0\n",
      "    Uninstalling typing_extensions-4.4.0:\n",
      "      Successfully uninstalled typing_extensions-4.4.0\n",
      "Successfully installed pytesseract-0.3.10 python-docx-1.1.2 typing-extensions-4.12.2\n",
      "\n"
     ]
    }
   ],
   "source": [
    "pip install pytesseract python-docx\n"
   ]
  },
  {
   "cell_type": "code",
   "execution_count": 14,
   "metadata": {},
   "outputs": [
    {
     "name": "stdout",
     "output_type": "stream",
     "text": [
      "Processed C:\\Users\\VIVEK\\Downloads\\history-of-animals\\IMG_6158.jpeg\n",
      "Processed C:\\Users\\VIVEK\\Downloads\\history-of-animals\\IMG_6159.jpeg\n",
      "Processed C:\\Users\\VIVEK\\Downloads\\history-of-animals\\IMG_6160.jpeg\n",
      "Processed C:\\Users\\VIVEK\\Downloads\\history-of-animals\\IMG_6161.jpeg\n",
      "Processed C:\\Users\\VIVEK\\Downloads\\history-of-animals\\IMG_6162.jpeg\n",
      "Processed C:\\Users\\VIVEK\\Downloads\\history-of-animals\\IMG_6163.jpeg\n",
      "Processed C:\\Users\\VIVEK\\Downloads\\history-of-animals\\IMG_6164.jpeg\n",
      "Processed C:\\Users\\VIVEK\\Downloads\\history-of-animals\\IMG_6165.jpeg\n",
      "Processed C:\\Users\\VIVEK\\Downloads\\history-of-animals\\IMG_6166.jpeg\n",
      "Processed C:\\Users\\VIVEK\\Downloads\\history-of-animals\\IMG_6167.jpeg\n",
      "Processed C:\\Users\\VIVEK\\Downloads\\history-of-animals\\IMG_6168.jpeg\n",
      "Processed C:\\Users\\VIVEK\\Downloads\\history-of-animals\\IMG_6169.jpeg\n",
      "Processed C:\\Users\\VIVEK\\Downloads\\history-of-animals\\IMG_6170.jpeg\n",
      "Processed C:\\Users\\VIVEK\\Downloads\\history-of-animals\\IMG_6171.jpeg\n",
      "Processed C:\\Users\\VIVEK\\Downloads\\history-of-animals\\IMG_6172.jpeg\n",
      "Processed C:\\Users\\VIVEK\\Downloads\\history-of-animals\\IMG_6173.jpeg\n",
      "Processed C:\\Users\\VIVEK\\Downloads\\history-of-animals\\IMG_6174.jpeg\n",
      "Processed C:\\Users\\VIVEK\\Downloads\\history-of-animals\\IMG_6175.jpeg\n",
      "Processed C:\\Users\\VIVEK\\Downloads\\history-of-animals\\IMG_6176.jpeg\n",
      "Processed C:\\Users\\VIVEK\\Downloads\\history-of-animals\\IMG_6177.jpeg\n",
      "Processed C:\\Users\\VIVEK\\Downloads\\history-of-animals\\IMG_6178.jpeg\n",
      "Processed C:\\Users\\VIVEK\\Downloads\\history-of-animals\\IMG_6179.jpeg\n",
      "Processed C:\\Users\\VIVEK\\Downloads\\history-of-animals\\IMG_6180.jpeg\n",
      "Processed C:\\Users\\VIVEK\\Downloads\\history-of-animals\\IMG_6181.jpeg\n",
      "Processed C:\\Users\\VIVEK\\Downloads\\history-of-animals\\IMG_6182.jpeg\n",
      "Processed C:\\Users\\VIVEK\\Downloads\\history-of-animals\\IMG_6183.jpeg\n",
      "Processed C:\\Users\\VIVEK\\Downloads\\history-of-animals\\IMG_6184.jpeg\n",
      "Processed C:\\Users\\VIVEK\\Downloads\\history-of-animals\\IMG_6185.jpeg\n",
      "Processed C:\\Users\\VIVEK\\Downloads\\history-of-animals\\IMG_6186.jpeg\n",
      "Processed C:\\Users\\VIVEK\\Downloads\\history-of-animals\\IMG_6187.jpeg\n",
      "Processed C:\\Users\\VIVEK\\Downloads\\history-of-animals\\IMG_6188.jpeg\n",
      "The text has been extracted and saved to C:\\Users\\VIVEK\\Downloads\\history-of-animals\\History_of_Animals 1.docx\n"
     ]
    }
   ],
   "source": [
    "import pytesseract\n",
    "from PIL import Image\n",
    "from docx import Document\n",
    "from docx.oxml.ns import qn\n",
    "from docx.oxml import OxmlElement\n",
    "\n",
    "# Specify the path to the Tesseract OCR executable\n",
    "pytesseract.pytesseract.tesseract_cmd = r'D:\\piyush\\tesseract\\tesseract.exe'  # Adjust this path if necessary\n",
    "\n",
    "# Initialize a Word document\n",
    "doc = Document()\n",
    "\n",
    "def add_page_break(doc):\n",
    "    # Function to add a page break in the document\n",
    "    doc.add_page_break()\n",
    "\n",
    "# Loop through image files and process them\n",
    "for i in range(58, 89):  # Adjust the range according to your needs\n",
    "    image_path = r'C:\\Users\\VIVEK\\Downloads\\history-of-animals\\IMG_61{}.jpeg'.format(i)\n",
    "    \n",
    "    try:\n",
    "        # Open the image\n",
    "        image = Image.open(image_path)\n",
    "        \n",
    "        # Extract text from the image\n",
    "        text = pytesseract.image_to_string(image)\n",
    "        \n",
    "        # Add the extracted text to the document\n",
    "        doc.add_paragraph(text)\n",
    "        \n",
    "        # Add a page break\n",
    "        add_page_break(doc)\n",
    "        \n",
    "        print(f\"Processed {image_path}\")\n",
    "        \n",
    "    except Exception as e:\n",
    "        print(f\"Failed to process {image_path}: {e}\")\n",
    "\n",
    "# Save the document\n",
    "output_path = r'C:\\Users\\VIVEK\\Downloads\\history-of-animals\\History_of_Animals 1.docx'\n",
    "doc.save(output_path)\n",
    "\n",
    "print(f\"The text has been extracted and saved to {output_path}\")\n"
   ]
  }
 ],
 "metadata": {
  "kernelspec": {
   "display_name": "base",
   "language": "python",
   "name": "python3"
  },
  "language_info": {
   "codemirror_mode": {
    "name": "ipython",
    "version": 3
   },
   "file_extension": ".py",
   "mimetype": "text/x-python",
   "name": "python",
   "nbconvert_exporter": "python",
   "pygments_lexer": "ipython3",
   "version": "3.10.9"
  }
 },
 "nbformat": 4,
 "nbformat_minor": 2
}
